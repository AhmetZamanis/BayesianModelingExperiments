{
 "cells": [
  {
   "cell_type": "code",
   "execution_count": 1,
   "metadata": {},
   "outputs": [],
   "source": [
    "import pandas as pd\n",
    "import numpy as np\n",
    "import matplotlib.pyplot as plt\n",
    "import seaborn as sns\n",
    "\n",
    "from itertools import product\n",
    "from statsmodels.stats.power import TTestIndPower\n",
    "from statsmodels.stats.weightstats import ttest_ind"
   ]
  },
  {
   "cell_type": "code",
   "execution_count": 2,
   "metadata": {},
   "outputs": [],
   "source": [
    "# Set plot options\n",
    "plt.rcParams[\"figure.autolayout\"] = True\n",
    "plt.rcParams['figure.dpi'] = 100\n",
    "sns.set_style(\"darkgrid\")"
   ]
  },
  {
   "cell_type": "code",
   "execution_count": 3,
   "metadata": {},
   "outputs": [],
   "source": [
    "# Set print options\n",
    "np.set_printoptions(suppress=True, precision=4, edgeitems = 7)\n",
    "pd.options.display.float_format = '{:.4f}'.format\n",
    "pd.set_option('display.max_columns', None)"
   ]
  },
  {
   "cell_type": "code",
   "execution_count": 4,
   "metadata": {},
   "outputs": [],
   "source": [
    "# Create random generator\n",
    "random_seed = 1923\n",
    "rng = np.random.default_rng(random_seed)"
   ]
  },
  {
   "cell_type": "markdown",
   "metadata": {},
   "source": [
    "## Data generation"
   ]
  },
  {
   "cell_type": "markdown",
   "metadata": {},
   "source": [
    "### Fixed parameters"
   ]
  },
  {
   "cell_type": "code",
   "execution_count": 5,
   "metadata": {},
   "outputs": [],
   "source": [
    "# Avg. visitors per day & its noise, as Poisson distributions\n",
    "lam_visitors = 100\n",
    "lam_visitors_noise = 5"
   ]
  },
  {
   "cell_type": "code",
   "execution_count": 6,
   "metadata": {},
   "outputs": [],
   "source": [
    "# Conversion rates\n",
    "conversion_control = 0.15\n",
    "conversion_experiment = 0.20\n",
    "\n",
    "# Noise in conversion rates, as Beta distribution\n",
    "# Mean = alpha / (alpha + beta)\n",
    "conversion_noise_alpha = 2  \n",
    "conversion_noise_beta = 100"
   ]
  },
  {
   "cell_type": "code",
   "execution_count": 7,
   "metadata": {},
   "outputs": [
    {
     "data": {
      "text/plain": [
       "array([0.0212, 0.0199, 0.035 , 0.0247, 0.0109, 0.0082, 0.0298, 0.0085,\n",
       "       0.0187, 0.0186, 0.0241, 0.0017, 0.0062, 0.0098, 0.0096, 0.0241,\n",
       "       0.0184, 0.039 , 0.021 , 0.0075, 0.0262, 0.0059, 0.0471, 0.0445,\n",
       "       0.0058])"
      ]
     },
     "execution_count": 7,
     "metadata": {},
     "output_type": "execute_result"
    }
   ],
   "source": [
    "# Test conversion rate noise generation (will be randomly negated)\n",
    "np.random.beta(conversion_noise_alpha, conversion_noise_beta, 25)"
   ]
  },
  {
   "cell_type": "markdown",
   "metadata": {},
   "source": [
    "### Data generating functions"
   ]
  },
  {
   "cell_type": "code",
   "execution_count": 8,
   "metadata": {},
   "outputs": [],
   "source": [
    "def get_daily_visitors(days):\n",
    "    noise = rng.poisson(lam_visitors_noise, days) * np.random.choice([1, -1], days)\n",
    "    daily_visitors = rng.poisson(lam_visitors, days) + noise\n",
    "    return daily_visitors"
   ]
  },
  {
   "cell_type": "code",
   "execution_count": 9,
   "metadata": {},
   "outputs": [],
   "source": [
    "def get_daily_conversions(daily_visitors, conversion_rate):\n",
    "    n_days = len(daily_visitors)\n",
    "    noise = np.random.choice([1, -1], n_days) * np.random.beta(conversion_noise_alpha, conversion_noise_beta, n_days)\n",
    "    daily_conversions = daily_visitors * (conversion_rate + noise)\n",
    "    return daily_conversions.astype(int)"
   ]
  },
  {
   "cell_type": "code",
   "execution_count": 10,
   "metadata": {},
   "outputs": [],
   "source": [
    "def get_conversions_array(daily_visitors, daily_conversions):\n",
    "    n_visitors = sum(daily_visitors)\n",
    "    n_converted = sum(daily_conversions)\n",
    "    converted_array = np.ones(n_converted)\n",
    "    non_converted_array = np.zeros(n_visitors - n_converted)\n",
    "    return np.concatenate([converted_array, non_converted_array])"
   ]
  },
  {
   "cell_type": "code",
   "execution_count": 11,
   "metadata": {},
   "outputs": [],
   "source": [
    "def relative_uplift(experiment, control):\n",
    "    return (experiment / control) - 1"
   ]
  },
  {
   "cell_type": "code",
   "execution_count": 12,
   "metadata": {},
   "outputs": [
    {
     "data": {
      "text/plain": [
       "array([ 89,  86,  99, 118,  94], dtype=int64)"
      ]
     },
     "execution_count": 12,
     "metadata": {},
     "output_type": "execute_result"
    }
   ],
   "source": [
    "# Test daily visitors generation\n",
    "n_test_days = 5\n",
    "get_daily_visitors(n_test_days)"
   ]
  },
  {
   "cell_type": "code",
   "execution_count": 13,
   "metadata": {},
   "outputs": [
    {
     "data": {
      "text/plain": [
       "array([14, 15, 14, 11, 12])"
      ]
     },
     "execution_count": 13,
     "metadata": {},
     "output_type": "execute_result"
    }
   ],
   "source": [
    "# Test daily conversions generation\n",
    "get_daily_conversions(get_daily_visitors(n_test_days), conversion_control)"
   ]
  },
  {
   "cell_type": "code",
   "execution_count": 14,
   "metadata": {},
   "outputs": [
    {
     "data": {
      "text/plain": [
       "array([1., 1., 1., 1., 1., 1., 1., 1., 1., 1., 1., 1., 1., 1., 1., 1., 1.,\n",
       "       1., 1., 1., 1., 1., 1., 1., 1., 1., 1., 1., 1., 1., 1., 1., 1., 1.,\n",
       "       1., 1., 1., 1., 1., 1., 1., 1., 1., 1., 1., 1., 1., 1., 1., 1., 1.,\n",
       "       1., 1., 1., 1., 1., 1., 1., 1., 1., 1., 1., 1., 1., 1., 1., 1., 1.,\n",
       "       1., 0., 0., 0., 0., 0., 0., 0., 0., 0., 0., 0., 0., 0., 0., 0., 0.,\n",
       "       0., 0., 0., 0., 0., 0., 0., 0., 0., 0., 0., 0., 0., 0., 0., 0., 0.,\n",
       "       0., 0., 0., 0., 0., 0., 0., 0., 0., 0., 0., 0., 0., 0., 0., 0., 0.,\n",
       "       0., 0., 0., 0., 0., 0., 0., 0., 0., 0., 0., 0., 0., 0., 0., 0., 0.,\n",
       "       0., 0., 0., 0., 0., 0., 0., 0., 0., 0., 0., 0., 0., 0., 0., 0., 0.,\n",
       "       0., 0., 0., 0., 0., 0., 0., 0., 0., 0., 0., 0., 0., 0., 0., 0., 0.,\n",
       "       0., 0., 0., 0., 0., 0., 0., 0., 0., 0., 0., 0., 0., 0., 0., 0., 0.,\n",
       "       0., 0., 0., 0., 0., 0., 0., 0., 0., 0., 0., 0., 0., 0., 0., 0., 0.,\n",
       "       0., 0., 0., 0., 0., 0., 0., 0., 0., 0., 0., 0., 0., 0., 0., 0., 0.,\n",
       "       0., 0., 0., 0., 0., 0., 0., 0., 0., 0., 0., 0., 0., 0., 0., 0., 0.,\n",
       "       0., 0., 0., 0., 0., 0., 0., 0., 0., 0., 0., 0., 0., 0., 0., 0., 0.,\n",
       "       0., 0., 0., 0., 0., 0., 0., 0., 0., 0., 0., 0., 0., 0., 0., 0., 0.,\n",
       "       0., 0., 0., 0., 0., 0., 0., 0., 0., 0., 0., 0., 0., 0., 0., 0., 0.,\n",
       "       0., 0., 0., 0., 0., 0., 0., 0., 0., 0., 0., 0., 0., 0., 0., 0., 0.,\n",
       "       0., 0., 0., 0., 0., 0., 0., 0., 0., 0., 0., 0., 0., 0., 0., 0., 0.,\n",
       "       0., 0., 0., 0., 0., 0., 0., 0., 0., 0., 0., 0., 0., 0., 0., 0., 0.,\n",
       "       0., 0., 0., 0., 0., 0., 0., 0., 0., 0., 0., 0., 0., 0., 0., 0., 0.,\n",
       "       0., 0., 0., 0., 0., 0., 0., 0., 0., 0., 0., 0., 0., 0., 0., 0., 0.,\n",
       "       0., 0., 0., 0., 0., 0., 0., 0., 0., 0., 0., 0., 0., 0., 0., 0., 0.,\n",
       "       0., 0., 0., 0., 0., 0., 0., 0., 0., 0., 0., 0., 0., 0., 0., 0., 0.,\n",
       "       0., 0., 0., 0., 0., 0., 0., 0., 0., 0., 0., 0., 0., 0., 0., 0., 0.,\n",
       "       0., 0., 0., 0., 0., 0., 0., 0., 0., 0., 0., 0., 0., 0., 0., 0., 0.,\n",
       "       0., 0., 0., 0., 0., 0., 0., 0., 0., 0., 0., 0., 0., 0., 0., 0., 0.,\n",
       "       0., 0., 0., 0., 0., 0., 0., 0., 0., 0., 0., 0., 0., 0., 0., 0., 0.,\n",
       "       0., 0., 0., 0., 0.])"
      ]
     },
     "execution_count": 14,
     "metadata": {},
     "output_type": "execute_result"
    }
   ],
   "source": [
    "# Test conversions array generation\n",
    "get_conversions_array(\n",
    "    get_daily_visitors(n_test_days),\n",
    "    get_daily_conversions(get_daily_visitors(n_test_days), conversion_control)\n",
    "\n",
    ")"
   ]
  },
  {
   "cell_type": "code",
   "execution_count": 15,
   "metadata": {},
   "outputs": [
    {
     "data": {
      "text/plain": [
       "0.1342155009451796"
      ]
     },
     "execution_count": 15,
     "metadata": {},
     "output_type": "execute_result"
    }
   ],
   "source": [
    "# Test calculating conversion rate\n",
    "np.mean(\n",
    "    get_conversions_array(\n",
    "    get_daily_visitors(n_test_days),\n",
    "    get_daily_conversions(get_daily_visitors(n_test_days), conversion_control)\n",
    ")\n",
    ")"
   ]
  },
  {
   "cell_type": "code",
   "execution_count": 16,
   "metadata": {},
   "outputs": [
    {
     "data": {
      "text/plain": [
       "0.35582013857743894"
      ]
     },
     "execution_count": 16,
     "metadata": {},
     "output_type": "execute_result"
    }
   ],
   "source": [
    "# Test calculating sample standard deviation\n",
    "np.std(\n",
    "    get_conversions_array(\n",
    "    get_daily_visitors(n_test_days),\n",
    "    get_daily_conversions(get_daily_visitors(n_test_days), conversion_control)\n",
    ")\n",
    ")"
   ]
  },
  {
   "cell_type": "markdown",
   "metadata": {},
   "source": [
    "## Power analysis"
   ]
  },
  {
   "cell_type": "code",
   "execution_count": 17,
   "metadata": {},
   "outputs": [],
   "source": [
    "# Minimum practically significant raw effect size\n",
    "min_raw_effect = conversion_experiment - conversion_control\n",
    "\n",
    "# Expected sample standard deviation\n",
    "expected_std = 0.3\n",
    "\n",
    "# Minimum practically significant standardized effect\n",
    "min_std_effect = (min_raw_effect / expected_std)\n",
    "\n",
    "# Considered standardized effect sizes\n",
    "effect_sizes = [\n",
    "    min_std_effect * 0.5, \n",
    "    min_std_effect * 0.8, \n",
    "    min_std_effect, \n",
    "    min_std_effect * 1.2,\n",
    "    min_std_effect * 1.5\n",
    "    ]\n",
    "\n",
    "# Considered significance levels\n",
    "alphas = [0.01, 0.05, 0.10]\n",
    "\n",
    "# Considered n. of days\n",
    "n_days = np.arange(1, 22, 1)\n",
    "\n",
    "# Dictionary of parameters\n",
    "dict_power = {\n",
    "    \"effect_size\": effect_sizes,\n",
    "    \"alpha\": alphas,\n",
    "    \"n_days\": n_days\n",
    "}"
   ]
  },
  {
   "cell_type": "code",
   "execution_count": 18,
   "metadata": {},
   "outputs": [],
   "source": [
    "# Create power calculator\n",
    "power_calc = TTestIndPower(alternative = \"larger\")"
   ]
  },
  {
   "cell_type": "code",
   "execution_count": 19,
   "metadata": {},
   "outputs": [],
   "source": [
    "# Function to get each parameter combination\n",
    "def grid_configs(dictionary):\n",
    "    for combination in product(*dictionary.values()):\n",
    "        yield dict(zip(dictionary.keys(), combination))"
   ]
  },
  {
   "cell_type": "code",
   "execution_count": 20,
   "metadata": {},
   "outputs": [],
   "source": [
    "# Calculate power for each parameter combination\n",
    "effects_list = []\n",
    "alphas_list = []\n",
    "days_list = []\n",
    "power_list = []\n",
    "for config in grid_configs(dict_power):\n",
    "\n",
    "    # Calculate power\n",
    "    n_obs = np.sum(get_daily_visitors(config[\"n_days\"]))\n",
    "\n",
    "    power = power_calc.power(\n",
    "        effect_size = config[\"effect_size\"],\n",
    "        nobs1 = n_obs,\n",
    "        alpha = config[\"alpha\"],\n",
    "        ratio = 1\n",
    "    )\n",
    "\n",
    "    # Append parameters to list\n",
    "    effects_list.append(config[\"effect_size\"])\n",
    "    alphas_list.append(config[\"alpha\"])\n",
    "    days_list.append(config[\"n_days\"])\n",
    "    power_list.append(power)"
   ]
  },
  {
   "cell_type": "code",
   "execution_count": 21,
   "metadata": {},
   "outputs": [],
   "source": [
    "# Create dataframe of power calculations\n",
    "power_data = pd.DataFrame({\n",
    "    \"effect_size\": [round(x, 2) for x in effects_list],\n",
    "    \"alpha\": [round(x, 2) for x in alphas_list],\n",
    "    \"days\": days_list,\n",
    "    \"power\": [round(x, 2) for x in power_list]\n",
    "})"
   ]
  },
  {
   "cell_type": "code",
   "execution_count": 22,
   "metadata": {},
   "outputs": [
    {
     "data": {
      "image/png": "[encoded data removed]",
      "text/plain": [
       "<Figure size 640x480 with 2 Axes>"
      ]
     },
     "metadata": {},
     "output_type": "display_data"
    }
   ],
   "source": [
    "# Plot power vs. variables\n",
    "fig, ax = plt.subplots(2, sharey = True, sharex = True)\n",
    "plt.suptitle(\"Power analysis\")\n",
    "\n",
    "_ = sns.lineplot(\n",
    "    power_data,\n",
    "    x = \"days\",\n",
    "    y = \"power\",\n",
    "    hue = \"effect_size\",\n",
    "    style = \"effect_size\",\n",
    "    markers = True,\n",
    "    err_style = \"bars\",\n",
    "    ax = ax[0]\n",
    ")\n",
    "\n",
    "_ = sns.lineplot(\n",
    "    power_data,\n",
    "    x = \"days\",\n",
    "    y = \"power\",\n",
    "    hue = power_data[\"alpha\"].astype(str),\n",
    "    style = power_data[\"alpha\"].astype(str),\n",
    "    markers = True,\n",
    "    ax = ax[1]\n",
    ")"
   ]
  },
  {
   "cell_type": "markdown",
   "metadata": {},
   "source": [
    "To detect the minimum standardized effect size with a power of ~0.8-0.9 at significance 0.05, we need 6-7 days.\n",
    "\n",
    "Can calculate the required sample size for a given power, significance & standardized effect size using `TTestIndPower.solve_power`."
   ]
  },
  {
   "cell_type": "markdown",
   "metadata": {},
   "source": [
    "## T-tests"
   ]
  },
  {
   "cell_type": "code",
   "execution_count": 23,
   "metadata": {},
   "outputs": [],
   "source": [
    "# Define testing function\n",
    "def t_test(days, alpha = 0.05):\n",
    "\n",
    "    # Generate control data\n",
    "    control_daily_visitors = get_daily_visitors(days)\n",
    "    control_daily_conversions = get_daily_conversions(control_daily_visitors, conversion_control)\n",
    "    control_array = get_conversions_array(control_daily_visitors, control_daily_conversions)\n",
    "    n_obs_control = len(control_array)\n",
    "\n",
    "    # Generate experiment data\n",
    "    experiment_daily_visitors = get_daily_visitors(days)\n",
    "    experiment_daily_conversions = get_daily_conversions(experiment_daily_visitors, conversion_experiment)\n",
    "    experiment_array = get_conversions_array(experiment_daily_visitors, experiment_daily_conversions)\n",
    "    n_obs_experiment = len(experiment_array)\n",
    "\n",
    "    # Perform test\n",
    "    # \"alternative\" relates first sample to the second\n",
    "    t, p, df = ttest_ind(\n",
    "        experiment_array,\n",
    "        control_array,\n",
    "        alternative = \"larger\",\n",
    "        usevar = \"unequal\"\n",
    "        )\n",
    "    \n",
    "    # Calculate power\n",
    "    power = power_calc.power(\n",
    "        effect_size = min_std_effect,\n",
    "        nobs1 = n_obs_control,\n",
    "        alpha = alpha,\n",
    "        ratio = n_obs_experiment / n_obs_control\n",
    "    )\n",
    "    \n",
    "    # Print results\n",
    "    print(f\"N. of days: {days}\")\n",
    "    print(f\"N. of control samples: {n_obs_control}\")\n",
    "    print(f\"N. of experiment samples: {n_obs_experiment}\")\n",
    "    print(f\"T-stat: {t}\")\n",
    "    print(f\"P-value: {p}\")\n",
    "    print(f\"Deg. of freedom: {df}\")\n",
    "    print(f\"Power: {power}, at significance {alpha}, for std. effect size {min_std_effect}\")"
   ]
  },
  {
   "cell_type": "code",
   "execution_count": 24,
   "metadata": {},
   "outputs": [
    {
     "name": "stdout",
     "output_type": "stream",
     "text": [
      "N. of days: 2\n",
      "N. of control samples: 203\n",
      "N. of experiment samples: 208\n",
      "T-stat: 2.324991574893261\n",
      "P-value: 0.01028731821605022\n",
      "Deg. of freedom: 397.9586191147546\n",
      "Power: 0.3919346703504858, at significance 0.05, for std. effect size 0.16666666666666674\n"
     ]
    }
   ],
   "source": [
    "# Underpowered test\n",
    "t_test(days = 2)"
   ]
  },
  {
   "cell_type": "code",
   "execution_count": 25,
   "metadata": {},
   "outputs": [
    {
     "name": "stdout",
     "output_type": "stream",
     "text": [
      "N. of days: 6\n",
      "N. of control samples: 575\n",
      "N. of experiment samples: 605\n",
      "T-stat: 1.9169298140897988\n",
      "P-value: 0.027744528530644567\n",
      "Deg. of freedom: 1175.4880522667042\n",
      "Power: 0.8157731671215037, at significance 0.05, for std. effect size 0.16666666666666674\n"
     ]
    }
   ],
   "source": [
    "# Adequately powered test\n",
    "t_test(days = 6)"
   ]
  },
  {
   "cell_type": "code",
   "execution_count": 26,
   "metadata": {},
   "outputs": [
    {
     "name": "stdout",
     "output_type": "stream",
     "text": [
      "N. of days: 10\n",
      "N. of control samples: 1016\n",
      "N. of experiment samples: 936\n",
      "T-stat: 3.6260567170407976\n",
      "P-value: 0.0001477896093784625\n",
      "Deg. of freedom: 1848.4162829033814\n",
      "Power: 0.9570028560481996, at significance 0.05, for std. effect size 0.16666666666666674\n"
     ]
    }
   ],
   "source": [
    "# Overpowered test\n",
    "t_test(days = 10)"
   ]
  },
  {
   "cell_type": "code",
   "execution_count": 27,
   "metadata": {},
   "outputs": [],
   "source": [
    "# Define function to run test many times & calculate type II error rate, avg. power, avg. p-value\n",
    "def run_tests(days, trials = 1000, alpha = 0.05):\n",
    "\n",
    "    false_negatives = 0\n",
    "    p_values = []\n",
    "    powers = []\n",
    "    for i in range(trials):\n",
    "\n",
    "        # Generate control data\n",
    "        control_daily_visitors = get_daily_visitors(days)\n",
    "        control_daily_conversions = get_daily_conversions(control_daily_visitors, conversion_control)\n",
    "        control_array = get_conversions_array(control_daily_visitors, control_daily_conversions)\n",
    "        n_obs_control = len(control_array)\n",
    "\n",
    "        # Generate experiment data\n",
    "        experiment_daily_visitors = get_daily_visitors(days)\n",
    "        experiment_daily_conversions = get_daily_conversions(experiment_daily_visitors, conversion_experiment)\n",
    "        experiment_array = get_conversions_array(experiment_daily_visitors, experiment_daily_conversions)\n",
    "        n_obs_experiment = len(experiment_array)\n",
    "\n",
    "        # Perform test\n",
    "        # \"alternative\" relates first sample to the second\n",
    "        t, p, df = ttest_ind(\n",
    "            experiment_array,\n",
    "            control_array,\n",
    "            alternative = \"larger\",\n",
    "            usevar = \"unequal\"\n",
    "            )\n",
    "        p_values.append(p)\n",
    "        \n",
    "        # Calculate power\n",
    "        power = power_calc.power(\n",
    "            effect_size = min_std_effect,\n",
    "            nobs1 = n_obs_control,\n",
    "            alpha = alpha,\n",
    "            ratio = n_obs_experiment / n_obs_control\n",
    "    )\n",
    "        powers.append(power)\n",
    "\n",
    "        if p > alpha:\n",
    "            false_negatives +=1\n",
    "    \n",
    "    avg_power = np.mean(powers)\n",
    "    avg_p = np.mean(p_values)\n",
    "    fpr = false_negatives / trials\n",
    "    \n",
    "    print(f\"N. trials: {trials}\")\n",
    "    print(f\"Significance level: {alpha}\")\n",
    "    print(f\"Avg. p-value: {avg_p}\")\n",
    "    print(f\"Avg. power: {avg_power}\")\n",
    "    print(f\"False negative rate (Type II): {fpr}\")\n",
    "    print(f\"Difference of (1-avg. power) and FPR: {(1-avg_power) - fpr}\")"
   ]
  },
  {
   "cell_type": "code",
   "execution_count": 28,
   "metadata": {},
   "outputs": [
    {
     "name": "stdout",
     "output_type": "stream",
     "text": [
      "N. trials: 1000\n",
      "Significance level: 0.05\n",
      "Avg. p-value: 0.1318345277945591\n",
      "Avg. power: 0.3822886654005041\n",
      "False negative rate (Type II): 0.692\n",
      "Difference of (1-avg. power) and FPR: -0.07428866540050405\n"
     ]
    }
   ],
   "source": [
    "# Underpowered tests\n",
    "run_tests(days = 2)"
   ]
  },
  {
   "cell_type": "code",
   "execution_count": 29,
   "metadata": {},
   "outputs": [
    {
     "name": "stdout",
     "output_type": "stream",
     "text": [
      "N. trials: 1000\n",
      "Significance level: 0.05\n",
      "Avg. p-value: 0.025021227008816618\n",
      "Avg. power: 0.8213909315581543\n",
      "False negative rate (Type II): 0.151\n",
      "Difference of (1-avg. power) and FPR: 0.027609068441845658\n"
     ]
    }
   ],
   "source": [
    "# Adequately powered tests\n",
    "run_tests(days = 6)"
   ]
  },
  {
   "cell_type": "code",
   "execution_count": 30,
   "metadata": {},
   "outputs": [
    {
     "name": "stdout",
     "output_type": "stream",
     "text": [
      "N. trials: 1000\n",
      "Significance level: 0.05\n",
      "Avg. p-value: 0.006093982276525344\n",
      "Avg. power: 0.9609630180422881\n",
      "False negative rate (Type II): 0.024\n",
      "Difference of (1-avg. power) and FPR: 0.01503698195771188\n"
     ]
    }
   ],
   "source": [
    "# Overpowered tests\n",
    "run_tests(days = 10)"
   ]
  },
  {
   "cell_type": "markdown",
   "metadata": {},
   "source": [
    "Notes:\n",
    "\n",
    "In reality, we do not know the following:\n",
    "\n",
    "- Exact n. of samples in each group, or their ratio. We only control the number of experiment days and we have to estimate the sample sizes accordingly.\n",
    "- The standard deviation of the sample outcomes. We have to estimate this from past data or knowledge."
   ]
  }
 ],
 "metadata": {
  "kernelspec": {
   "display_name": "venv",
   "language": "python",
   "name": "python3"
  },
  "language_info": {
   "codemirror_mode": {
    "name": "ipython",
    "version": 3
   },
   "file_extension": ".py",
   "mimetype": "text/x-python",
   "name": "python",
   "nbconvert_exporter": "python",
   "pygments_lexer": "ipython3",
   "version": "3.11.9"
  }
 },
 "nbformat": 4,
 "nbformat_minor": 2
}
